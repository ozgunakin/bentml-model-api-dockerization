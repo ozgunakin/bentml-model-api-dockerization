{
 "cells": [
  {
   "cell_type": "code",
   "execution_count": 3,
   "id": "76e9df55",
   "metadata": {},
   "outputs": [
    {
     "name": "stdout",
     "output_type": "stream",
     "text": [
      "[0.0]\n"
     ]
    }
   ],
   "source": [
    "import requests\n",
    "\n",
    "test_data=[[3, 102, 44, 20, 94, 30.8, 0.4, 26 ]]\n",
    "response = requests.post(\"http://localhost:5000/predict\", json=test_data)\n",
    "print(response.text)"
   ]
  }
 ],
 "metadata": {
  "kernelspec": {
   "display_name": "Python 3 (ipykernel)",
   "language": "python",
   "name": "python3"
  },
  "language_info": {
   "codemirror_mode": {
    "name": "ipython",
    "version": 3
   },
   "file_extension": ".py",
   "mimetype": "text/x-python",
   "name": "python",
   "nbconvert_exporter": "python",
   "pygments_lexer": "ipython3",
   "version": "3.8.10"
  }
 },
 "nbformat": 4,
 "nbformat_minor": 5
}
